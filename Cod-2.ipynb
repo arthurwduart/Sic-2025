{
 "cells": [
  {
   "cell_type": "code",
   "execution_count": 1,
   "id": "5951f195",
   "metadata": {},
   "outputs": [],
   "source": [
    "from datetime import datetime\n",
    "import cartopy.crs as ccrs\n",
    "import cartopy.feature as cfeature\n",
    "import cartopy.mpl.ticker as cticker\n",
    "import matplotlib.pyplot as plt\n",
    "from matplotlib import ticker, patheffects\n",
    "from metpy.units import units\n",
    "import numpy as np\n",
    "from scipy.ndimage import gaussian_filter, maximum_filter, minimum_filter\n",
    "import xarray as xr\n",
    "import pandas as pd"
   ]
  },
  {
   "cell_type": "code",
   "execution_count": 4,
   "id": "098f9ea0",
   "metadata": {},
   "outputs": [
    {
     "name": "stderr",
     "output_type": "stream",
     "text": [
      "2025-06-21 16:55:42,524 INFO [2025-06-16T00:00:00] CC-BY licence to replace Licence to use Copernicus Products on 02 July 2025. More information available [here](https://forum.ecmwf.int/t/cc-by-licence-to-replace-licence-to-use-copernicus-products-on-02-july-2025/13464)\n",
      "2025-06-21 16:55:42,524 INFO [2025-06-10T00:00:00] To improve our C3S service, we need to hear from you! Please complete this very short [survey](https://confluence.ecmwf.int/x/E7uBEQ/). Thank you.\n",
      "2025-06-21 16:55:42,525 INFO [2024-09-26T00:00:00] Watch our [Forum](https://forum.ecmwf.int/) for Announcements, news and other discussed topics.\n",
      "2025-06-21 16:55:43,374 INFO Request ID is 678f7163-a5ae-42f3-9cc8-b5eef0453d8b\n",
      "2025-06-21 16:55:43,690 INFO status has been updated to accepted\n",
      "2025-06-21 16:55:52,902 INFO status has been updated to running\n",
      "2025-06-21 16:57:40,032 INFO status has been updated to successful\n",
      "                                                                                        \r"
     ]
    },
    {
     "data": {
      "text/plain": [
       "'era5_geopotential_tendency_2024.nc'"
      ]
     },
     "execution_count": 4,
     "metadata": {},
     "output_type": "execute_result"
    }
   ],
   "source": [
    "import cdsapi\n",
    "\n",
    "c = cdsapi.Client()\n",
    "\n",
    "# Datas e horários\n",
    "dias = ['20240429', '20240430', '20240501', '20240502', '20240503']\n",
    "horas = ['00:00', '06:00', '12:00', '18:00']\n",
    "\n",
    "c.retrieve(\n",
    "    'reanalysis-era5-pressure-levels',\n",
    "    {\n",
    "        'product_type': 'reanalysis',\n",
    "        'format': 'netcdf',\n",
    "        'pressure_level': [\n",
    "            '1000', '925', '850', '700', '500', '400', '300', '250', '200', '150', '100'\n",
    "        ],\n",
    "        'variable': [\n",
    "            'geopotential', 'temperature',\n",
    "            'u_component_of_wind', 'v_component_of_wind'\n",
    "        ],\n",
    "        'year': ['2024'],\n",
    "        'month': ['04', '05'],\n",
    "        'day': ['29', '30', '01', '02', '03'],\n",
    "        'time': horas,\n",
    "        'area': [15, -85, -60, -30],  # [Norte, Oeste, Sul, Leste] - América do Sul\n",
    "    },\n",
    "    'era5_geopotential_tendency_2024.nc'\n",
    ")\n"
   ]
  },
  {
   "cell_type": "code",
   "execution_count": 18,
   "id": "c2006069",
   "metadata": {},
   "outputs": [],
   "source": [
    "import numpy as np\n",
    "from metpy.constants import Rd, g\n",
    "from metpy.calc import potential_temperature\n",
    "from metpy.units import units\n",
    "\n",
    "def coriolis_parameter(lat):\n",
    "    \"\"\"Calcula o parâmetro de Coriolis f.\"\"\"\n",
    "    omega = 7.2921e-5  # rad/s\n",
    "    return 2 * omega * np.sin(np.radians(lat))\n",
    "\n",
    "def static_stability(T, p, theta=None):\n",
    "    \"\"\"Calcula a estabilidade estática σ = - (R * T / p) * d(lnθ)/dp\"\"\"\n",
    "    if theta is None:\n",
    "        theta = potential_temperature(p * units.Pa, T * units.K)\n",
    "    dlnθ_dp = np.gradient(np.log(theta), p, axis=0)\n",
    "    sigma = - (Rd * T / p) * dlnθ_dp\n",
    "    return sigma\n",
    "\n",
    "def termo_A_lhs(topo, p, sigma, f0, dx, dy):\n",
    "    \"\"\"Termo A: Operador do lado esquerdo da equação\"\"\"\n",
    "    laplaciano = (\n",
    "        np.gradient(np.gradient(topo, dx, axis=-1), dx, axis=-1) +\n",
    "        np.gradient(np.gradient(topo, dy, axis=-2), dy, axis=-2)\n",
    "    )\n",
    "    d_sigma = np.gradient((f0**2 / sigma) * np.gradient(topo, p, axis=0), p, axis=0)\n",
    "    return laplaciano + d_sigma\n",
    "\n",
    "def termo_B(Vg, phi, f, f0, dx, dy):\n",
    "    \"\"\"Termo B: -f0 * Vg · ∇[(1/f0) ∇²φ + f]\"\"\"\n",
    "    lap_phi = (\n",
    "        np.gradient(np.gradient(phi, dx, axis=-1), dx, axis=-1) +\n",
    "        np.gradient(np.gradient(phi, dy, axis=-2), dy, axis=-2)\n",
    "    )\n",
    "    escalar = (1 / f0) * lap_phi + f\n",
    "    dphidx = np.gradient(escalar, dx, axis=-1)\n",
    "    dphidy = np.gradient(escalar, dy, axis=-2)\n",
    "    return -f0 * (Vg[0] * dphidx + Vg[1] * dphidy)\n",
    "\n",
    "def termo_C(Vg, phi, sigma, f0, p, dx, dy):\n",
    "    \"\"\"Termo C: -∂/∂p [f0² / σ * Vg · ∇( -∂φ/∂p )]\"\"\"\n",
    "    dphidp = -np.gradient(phi, p, axis=0)\n",
    "    dtermx = np.gradient(dphidp, dx, axis=-1)\n",
    "    dtermy = np.gradient(dphidp, dy, axis=-2)\n",
    "    produto = (f0**2 / sigma) * (Vg[0] * dtermx + Vg[1] * dtermy)\n",
    "    return -np.gradient(produto, p, axis=0)\n",
    "\n",
    "def termo_D(T, sigma, f0, p):\n",
    "    \"\"\"Termo D: -f0² / σ * d/dp (κ / σ * dT/dp)\"\"\"\n",
    "    kappa = 0.286  # R/cp para ar seco\n",
    "    dTdp = np.gradient(T, p, axis=0)\n",
    "    termo = (kappa / sigma) * dTdp\n",
    "    dtermo_dp = np.gradient(termo, p, axis=0)\n",
    "    return -f0**2 / sigma * dtermo_dp\n"
   ]
  },
  {
   "cell_type": "code",
   "execution_count": null,
   "id": "1457ab85",
   "metadata": {},
   "outputs": [],
   "source": [
    "import xarray as xr\n",
    "\n",
    "ds = xr.open_dataset(\"era5_geopotential_tendency_2024.nc\")\n",
    "T = ds['t'].values          # temperatura em K\n",
    "z = ds['z'].values          # geopotencial em m^2/s^2\n",
    "lat = ds['latitude'].values\n",
    "lon = ds['longitude'].values\n",
    "p = ds['pressure_level'].values * 100  # hPa → Pa\n",
    "\n",
    "from metpy.units import units\n",
    "from metpy.constants import g\n",
    "\n",
    "# Adiciona unidades ao geopotencial\n",
    "z = z * units('m^2 / s^2')\n",
    "\n",
    "# Converte para altura geopotencial (em metros)\n",
    "height = z / g  # agora height tem unidades de metros (m)\n"
   ]
  },
  {
   "cell_type": "code",
   "execution_count": 21,
   "id": "5f525445",
   "metadata": {},
   "outputs": [],
   "source": [
    "import numpy as np\n",
    "from metpy.calc import lat_lon_grid_deltas\n",
    "from metpy.units import units\n",
    "\n",
    "# Grade 2D\n",
    "lat_2d, lon_2d = np.meshgrid(lat, lon, indexing='ij')\n",
    "\n",
    "# Coriolis\n",
    "def coriolis_parameter(lat):\n",
    "    omega = 7.2921e-5  # rad/s\n",
    "    return 2 * omega * np.sin(np.radians(lat))\n",
    "\n",
    "f = coriolis_parameter(lat_2d) * units('1/s')\n",
    "f0 = coriolis_parameter(np.mean(lat))\n",
    "\n",
    "# Deltas espaciais\n",
    "dx, dy = lat_lon_grid_deltas(lon_2d, lat_2d, x_dim=-1, y_dim=-2)\n",
    "dx_val = np.mean(dx)\n",
    "dy_val = np.mean(dy)\n"
   ]
  }
 ],
 "metadata": {
  "kernelspec": {
   "display_name": "sic",
   "language": "python",
   "name": "python3"
  },
  "language_info": {
   "codemirror_mode": {
    "name": "ipython",
    "version": 3
   },
   "file_extension": ".py",
   "mimetype": "text/x-python",
   "name": "python",
   "nbconvert_exporter": "python",
   "pygments_lexer": "ipython3",
   "version": "3.9.23"
  }
 },
 "nbformat": 4,
 "nbformat_minor": 5
}
